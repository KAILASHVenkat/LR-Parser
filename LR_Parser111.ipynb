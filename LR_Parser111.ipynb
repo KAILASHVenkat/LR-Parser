{
  "nbformat": 4,
  "nbformat_minor": 0,
  "metadata": {
    "colab": {
      "provenance": [],
      "authorship_tag": "ABX9TyOw/8XeyCfVeGkFg0AGTmsO",
      "include_colab_link": true
    },
    "kernelspec": {
      "name": "python3",
      "display_name": "Python 3"
    },
    "language_info": {
      "name": "python"
    }
  },
  "cells": [
    {
      "cell_type": "markdown",
      "metadata": {
        "id": "view-in-github",
        "colab_type": "text"
      },
      "source": [
        "<a href=\"https://colab.research.google.com/github/KAILASHVenkat/LR-Parser/blob/main/LR_Parser111.ipynb\" target=\"_parent\"><img src=\"https://colab.research.google.com/assets/colab-badge.svg\" alt=\"Open In Colab\"/></a>"
      ]
    },
    {
      "cell_type": "markdown",
      "source": [
        "This is a program that implements a LR(0) Parser in Python.\n",
        "\n",
        "<u>_**LR(0) PARSER**_</u>\n",
        "\n",
        "\n",
        "LR(0) parsing is a technique used in computer science and compiler construction to parse context-free grammars, particularly for generating deterministic parsers for languages. The LR(0) parser is part of a family of shift-reduce parsers known as LR parsers, which stands for \"left-to-right, rightmost derivation.\" Here's a brief overview of LR(0) parsing:\n",
        "\n",
        "**1)<u> Parsing Technique:</u>** LR(0) parsing is a bottom-up parsing technique, meaning it starts from the input tokens and works its way up to the start symbol of the grammar. It builds the parse tree in a bottom-up manner by repeatedly applying shift and reduce operations.\n",
        "\n",
        "**2)<u>State-Based Parsing:</u>** LR(0) parsing utilizes a finite automaton known as the LR(0) automaton to track the parser's state as it processes the input tokens. Each state represents a set of items, where an item is a production rule with a \"dot\" indicating the position of the parser within that rule.\n",
        "\n",
        "**3)<u>Items and Transitions:</u>** In LR(0) parsing, each item represents a possible configuration of the parser. Transitions between states occur based on the next input token and the current state of the parser. These transitions are determined by the LR(0) automaton, which is constructed based on the grammar's productions.\n",
        "\n",
        "**4)<u>Conflict Resolution:**</u> LR(0) parsers are powerful because they can handle a broad class of grammars, including ambiguous grammars. However, LR(0) parsers may encounter conflicts, such as shift-reduce conflicts or reduce-reduce conflicts, which require resolution strategies to determine the correct parsing action.\n",
        "\n",
        "**5)<u>Table-Driven Parsing:**</u> To implement an LR(0) parser, a parsing table known as the LR(0) parsing table is constructed. This table contains entries that dictate the parser's actions (shift, reduce, or accept) based on the current state and the next input token. The table-driven approach makes LR(0) parsing efficient and suitable for automated parser generation.\n",
        "\n",
        "**6)<u>Limitations:**</u> Despite its power, LR(0) parsing has limitations. It cannot handle left-recursive grammars and requires a grammar to be LR(0) or LR(1) to ensure unambiguous parsing. Additionally, LR(0) parsing can suffer from states explosion for larger grammars, leading to larger parsing tables and increased parsing time.\n",
        "\n",
        "_**The key point to note is that the LR(0) Parser does not work for left recursive grammars i.e. grammars that have productions of the form A->bB |\n",
        " C.**_"
      ],
      "metadata": {
        "id": "bQaq4NKvAfh5"
      }
    },
    {
      "cell_type": "markdown",
      "source": [
        "The output of the code is the augmented grammar of the input grammar, the parsing table and the process table of the input string entered by the user. The code then prints if the string is parsable or not. If the string is parsable, then the parse tree is printed by the program."
      ],
      "metadata": {
        "id": "792ta4tqDOny"
      }
    },
    {
      "cell_type": "code",
      "source": [
        "import warnings\n",
        "warnings.filterwarnings(\"ignore\")"
      ],
      "metadata": {
        "id": "RiHUcX9-N-IB"
      },
      "execution_count": 2,
      "outputs": []
    },
    {
      "cell_type": "code",
      "source": [
        "import requests\n",
        "from google.colab import files\n",
        "import os\n",
        "from collections import Counter\n",
        "import pyfiglet\n",
        "import termtables as tt"
      ],
      "metadata": {
        "id": "R_9jxm1GdbCN"
      },
      "execution_count": 6,
      "outputs": []
    },
    {
      "cell_type": "code",
      "execution_count": 4,
      "metadata": {
        "colab": {
          "base_uri": "https://localhost:8080/"
        },
        "id": "_62J1DqcZRS-",
        "outputId": "24418969-53dc-4649-ceab-682cbb799b2f"
      },
      "outputs": [
        {
          "output_type": "stream",
          "name": "stdout",
          "text": [
            "Collecting pyfiglet\n",
            "  Downloading pyfiglet-1.0.2-py3-none-any.whl (1.1 MB)\n",
            "\u001b[?25l     \u001b[90m━━━━━━━━━━━━━━━━━━━━━━━━━━━━━━━━━━━━━━━━\u001b[0m \u001b[32m0.0/1.1 MB\u001b[0m \u001b[31m?\u001b[0m eta \u001b[36m-:--:--\u001b[0m\r\u001b[2K     \u001b[91m━━━━━━\u001b[0m\u001b[90m╺\u001b[0m\u001b[90m━━━━━━━━━━━━━━━━━━━━━━━━━━━━━━━━━\u001b[0m \u001b[32m0.2/1.1 MB\u001b[0m \u001b[31m5.0 MB/s\u001b[0m eta \u001b[36m0:00:01\u001b[0m\r\u001b[2K     \u001b[91m━━━━━━━━━━━━━━━━━━━\u001b[0m\u001b[91m╸\u001b[0m\u001b[90m━━━━━━━━━━━━━━━━━━━━\u001b[0m \u001b[32m0.5/1.1 MB\u001b[0m \u001b[31m7.7 MB/s\u001b[0m eta \u001b[36m0:00:01\u001b[0m\r\u001b[2K     \u001b[91m━━━━━━━━━━━━━━━━━━━━━━━━━━━━━━━━━━━\u001b[0m\u001b[91m╸\u001b[0m\u001b[90m━━━━\u001b[0m \u001b[32m1.0/1.1 MB\u001b[0m \u001b[31m9.2 MB/s\u001b[0m eta \u001b[36m0:00:01\u001b[0m\r\u001b[2K     \u001b[90m━━━━━━━━━━━━━━━━━━━━━━━━━━━━━━━━━━━━━━━━\u001b[0m \u001b[32m1.1/1.1 MB\u001b[0m \u001b[31m8.5 MB/s\u001b[0m eta \u001b[36m0:00:00\u001b[0m\n",
            "\u001b[?25hInstalling collected packages: pyfiglet\n",
            "Successfully installed pyfiglet-1.0.2\n"
          ]
        }
      ],
      "source": [
        "!pip install pyfiglet"
      ]
    },
    {
      "cell_type": "code",
      "source": [
        "!pip install termtables"
      ],
      "metadata": {
        "colab": {
          "base_uri": "https://localhost:8080/"
        },
        "id": "n51cuSu7cn8W",
        "outputId": "70c1033b-3a24-4bda-f20d-99a00742e72c"
      },
      "execution_count": 5,
      "outputs": [
        {
          "output_type": "stream",
          "name": "stdout",
          "text": [
            "Collecting termtables\n",
            "  Downloading termtables-0.2.4-py3-none-any.whl (17 kB)\n",
            "Installing collected packages: termtables\n",
            "Successfully installed termtables-0.2.4\n"
          ]
        }
      ]
    },
    {
      "cell_type": "code",
      "source": [
        "result = pyfiglet.figlet_format(\"LR ( 0 ) Parser\",font='graceful')\n",
        "print(result)\n",
        "\n",
        "def append_dot(a):\n",
        "    jj = a.replace(\"->\", \"->.\")\n",
        "    return jj\n",
        "\n",
        "\n",
        "def closure(a):\n",
        "    temp = [a]\n",
        "    for it in temp:\n",
        "        jj = it[it.index(\".\") + 1]\n",
        "        if jj != len(it) - 1:\n",
        "            for k in prod:\n",
        "                if k[0][0] == jj and (append_dot(k)) not in temp:\n",
        "                    temp.append(append_dot(k))\n",
        "        else:\n",
        "            for k in prod:\n",
        "                if k[0][0] == jj and it not in temp:\n",
        "                    temp.append(it)\n",
        "\n",
        "    return temp\n",
        "\n",
        "\n",
        "def swap(new, pos):\n",
        "    new = list(new)\n",
        "    temp = new[pos]\n",
        "    if pos != len(new):\n",
        "        new[pos] = new[pos + 1]\n",
        "        new[pos + 1] = temp\n",
        "        new1 = \"\".join(new)\n",
        "        return new1\n",
        "    else:\n",
        "        return \"\".join(new)\n",
        "\n",
        "\n",
        "def goto1(x1):\n",
        "    hh = []\n",
        "    pos = x1.index(\".\")\n",
        "    if pos != len(x1) - 1:\n",
        "        jj = list(x1)\n",
        "        kk = swap(jj, pos)\n",
        "        if kk.index(\".\") != len(kk) - 1:\n",
        "            jjj = closure(kk)\n",
        "            return jjj\n",
        "        else:\n",
        "            hh.append(kk)\n",
        "            return hh\n",
        "    else:\n",
        "        return x1\n",
        "\n",
        "\n",
        "def get_terminals(gram):\n",
        "    terms = set()\n",
        "    for p in gram:\n",
        "        x1 = p.split('->')\n",
        "        for t in x1[1].strip():\n",
        "            if not t.isupper() and t != '.' and t != '':\n",
        "                terms.add(t)\n",
        "\n",
        "    terms.add('$')\n",
        "\n",
        "    return terms\n",
        "\n",
        "\n",
        "def get_non_terminals(gram):\n",
        "    terms = set()\n",
        "    for p in gram:\n",
        "        x1 = p.split('->')\n",
        "        for t in x1[1].strip():\n",
        "            if t.isupper():\n",
        "                terms.add(t)\n",
        "\n",
        "    return terms\n",
        "\n",
        "\n",
        "def get_list(graph, state):\n",
        "    final = []\n",
        "    for g in graph:\n",
        "        if int(g.split()[0]) == state:\n",
        "            final.append(g)\n",
        "\n",
        "    return final\n",
        "\n",
        "\n",
        "if __name__ == '__main__':\n",
        "    #This is where we define our grammar(Augmented grammar)\n",
        "    prod = ['X->.S', 'S->AA','A->aA','A->b']\n",
        "    set_of_items = []\n",
        "    c = []\n",
        "\n",
        "\n",
        "    print(\"---------------------------------------------------------------\")\n",
        "    print(\"Augmented Grammar\")\n",
        "    print(prod)\n",
        "\n",
        "    prod_num = {}\n",
        "    for i in range(1, len(prod)):\n",
        "        prod_num[str(prod[i])] = i\n",
        "\n",
        "    j = closure(\"X->.S\")\n",
        "    set_of_items.append(j)\n",
        "\n",
        "    state_numbers = {}\n",
        "    dfa_prod = {}\n",
        "    items = 0\n",
        "    while True:\n",
        "        if len(set_of_items) == 0:\n",
        "            break\n",
        "\n",
        "        jk = set_of_items.pop(0)\n",
        "        kl = jk\n",
        "        c.append(jk)\n",
        "        state_numbers[str(jk)] = items\n",
        "        items += 1\n",
        "\n",
        "        if len(jk) > 1:\n",
        "            for item in jk:\n",
        "                jl = goto1(item)\n",
        "                if jl not in set_of_items and jl != kl:\n",
        "                    set_of_items.append(jl)\n",
        "                    dfa_prod[str(state_numbers[str(jk)]) + \" \" + str(item)] = jl\n",
        "                else:\n",
        "                    dfa_prod[str(state_numbers[str(jk)]) + \" \" + str(item)] = jl\n",
        "\n",
        "    for item in c:\n",
        "        for j in range(len(item)):\n",
        "            if goto1(item[j]) not in c:\n",
        "                if item[j].index(\".\") != len(item[j]) - 1:\n",
        "                    c.append(goto1(item[j]))\n",
        "\n",
        "    print(\"---------------------------------------------------------------\")\n",
        "    print(\"Total States: \", len(c))\n",
        "    for i in range(len(c)):\n",
        "        print(i, \":\", c[i])\n",
        "    print(\"---------------------------------------------------------------\")\n",
        "\n",
        "    dfa = {}\n",
        "    for i in range(len(c)):\n",
        "        if i in dfa:\n",
        "            pass\n",
        "        else:\n",
        "            lst = get_list(dfa_prod, i)\n",
        "            samp = {}\n",
        "            for j in lst:\n",
        "                s = j.split()[1].split('->')[1]\n",
        "                search = s[s.index('.') + 1]\n",
        "                samp[search] = state_numbers[str(dfa_prod[j])]\n",
        "\n",
        "            if samp != {}:\n",
        "                dfa[i] = samp\n",
        "\n",
        "    table = []\n",
        "\n",
        "    term = sorted(list(get_terminals(prod)))\n",
        "    header = [''] * (len(term) + 1)\n",
        "    header[(len(term) + 1) // 2] = 'Action'\n",
        "\n",
        "    non_term = sorted(list(get_non_terminals(prod)))\n",
        "\n",
        "    header2 = [''] * len(non_term)\n",
        "    header2[(len(non_term)) // 2] = 'Goto'\n",
        "\n",
        "    table.append([''] + term + non_term)\n",
        "\n",
        "    table_dic = {}\n",
        "\n",
        "    for i in range(len(c)):\n",
        "        data = [''] * (len(term) + len(non_term))\n",
        "        samp = {}\n",
        "\n",
        "        # Action\n",
        "        try:\n",
        "            for j in dfa[i]:\n",
        "                if not j.isupper() and j != '' and j != '.':\n",
        "                    ind = term.index(j)\n",
        "                    data[ind] = 'S' + str(dfa[i][j])\n",
        "                    samp[term[ind]] = 'S' + str(dfa[i][j])\n",
        "\n",
        "        except Exception:\n",
        "            if i != 1:\n",
        "                s = list(c[i][0])\n",
        "                s.remove('.')\n",
        "                s = \"\".join(s)\n",
        "                lst = [i] + ['r' + str(prod_num[s])] * len(term)\n",
        "                lst += [''] * len(non_term)\n",
        "                table.append(lst)\n",
        "                for j in term:\n",
        "                    samp[j] = 'r' + str(prod_num[s])\n",
        "            else:\n",
        "                lst = [i] + [''] * (len(term) + len(non_term))\n",
        "                lst[-1] = 'Accept'\n",
        "                table.append(lst)\n",
        "\n",
        "        # Goto\n",
        "        try:\n",
        "            for j in dfa[i]:\n",
        "                if j.isupper():\n",
        "                    ind = non_term.index(j)\n",
        "                    data[len(term) + ind] = dfa[i][j]\n",
        "\n",
        "                    samp[j] = str(dfa[i][j])\n",
        "\n",
        "            table.append([i] + data)\n",
        "        except Exception:\n",
        "            pass\n",
        "\n",
        "        if samp == {}:\n",
        "            table_dic[i] = {'$': 'Accept'}\n",
        "        else:\n",
        "            table_dic[i] = samp\n",
        "\n",
        "    row_index=2\n",
        "    column1_index=1\n",
        "    column6_index=len(term)+len(non_term)\n",
        "    table[row_index][column1_index], table[row_index][column6_index] =  table[row_index][column6_index], table[row_index][column1_index]\n",
        "    #print(table)\n",
        "    final_table = tt.to_string(data=table, header=header + header2, style=tt.styles.ascii_thin_double, padding=(0, 1))\n",
        "    #print(len(term))\n",
        "    #print(\"\\n\")\n",
        "    #print(len(non_term))\n",
        "    #print(\"\\n\")\n",
        "    print(final_table)\n",
        "    print(\"\\n\")\n",
        "\n",
        "    # Parse String\n",
        "    string = input(\"Enter the string to be parsed: \")\n",
        "    string += '$'\n",
        "    print(\"\\n\")\n",
        "\n",
        "    stack = [0]\n",
        "    pointer = 0\n",
        "\n",
        "    # print(table_dic)\n",
        "\n",
        "    header = ['Process', 'Look Ahead', 'Symbol', 'Stack']\n",
        "    data = []\n",
        "\n",
        "    i = 0\n",
        "    accepted = False\n",
        "    while True:\n",
        "        try:\n",
        "            try:\n",
        "                prods = dfa[stack[-1]]\n",
        "                prod_i = prods[string[i]]  # state num\n",
        "            except Exception:\n",
        "                prod_i = None\n",
        "\n",
        "            try:\n",
        "                tab = table_dic[stack[-1]]\n",
        "                tab_i = tab[string[i]]  # S or r\n",
        "            except Exception:\n",
        "                tab = table_dic[stack[-2]]\n",
        "                tab_i = tab[stack[-1]]  # S or r\n",
        "\n",
        "            if tab_i == 'Accept':\n",
        "                data.append(['Action({0}, {1}) = {2}'.format(stack[-1], string[i], tab_i), i, string[i], str(stack)])\n",
        "                accepted = True\n",
        "                break\n",
        "            else:\n",
        "                if tab_i[0] == 'S' and not str(stack[-1]).isupper():\n",
        "                    lst = ['Action({0}, {1}) = {2}'.format(stack[-1], string[i], tab_i), i, string[i]]\n",
        "                    stack.append(string[i])\n",
        "                    stack.append(prod_i)\n",
        "                    lst.append(str(stack))\n",
        "                    data.append(lst)\n",
        "                    i += 1\n",
        "                elif tab_i[0] == 'r':\n",
        "                    lst = ['Action({0}, {1}) = {2}'.format(stack[-1], string[i], tab_i), i, string[i]]\n",
        "                    x = None\n",
        "                    for i1 in prod_num:\n",
        "                        if prod_num[i1] == int(tab_i[1]):\n",
        "                            x = i1\n",
        "                            break\n",
        "\n",
        "                    length = 2 * (len(x.split('->')[1]))\n",
        "                    for _ in range(length):\n",
        "                        stack.pop()\n",
        "\n",
        "                    stack.append(x[0])\n",
        "                    lst.append(str(stack))\n",
        "                    data.append(lst)\n",
        "                else:\n",
        "                    lst = ['goto({0}, {1}) = {2}'.format(stack[-2], stack[-1], tab_i), i, string[i]]\n",
        "                    stack.append(int(tab_i))\n",
        "                    lst.append(str(stack))\n",
        "                    data.append(lst)\n",
        "        except Exception:\n",
        "            accepted = False\n",
        "            break"
      ],
      "metadata": {
        "colab": {
          "base_uri": "https://localhost:8080/"
        },
        "id": "35D5ZuSkcf_O",
        "outputId": "30acc151-3cce-4635-e37a-cc579f60985b"
      },
      "execution_count": 29,
      "outputs": [
        {
          "output_type": "stream",
          "name": "stdout",
          "text": [
            " __    ____     _     __     _     ____   __   ____  ____  ____  ____ \n",
            "(  )  (  _ \\   / )   /  \\   ( \\   (  _ \\ / _\\ (  _ \\/ ___)(  __)(  _ \\\n",
            "/ (_/\\ )   /  ( (   (  0 )   ) )   ) __//    \\ )   /\\___ \\ ) _)  )   /\n",
            "\\____/(__\\_)   \\_)   \\__/   (_/   (__)  \\_/\\_/(__\\_)(____/(____)(__\\_)\n",
            "\n",
            "---------------------------------------------------------------\n",
            "Augmented Grammar\n",
            "['X->.S', 'S->AA', 'A->aA', 'A->b']\n",
            "---------------------------------------------------------------\n",
            "Total States:  7\n",
            "0 : ['X->.S', 'S->.AA', 'A->.aA', 'A->.b']\n",
            "1 : ['X->S.']\n",
            "2 : ['S->A.A', 'A->.aA', 'A->.b']\n",
            "3 : ['A->a.A', 'A->.aA', 'A->.b']\n",
            "4 : ['A->b.']\n",
            "5 : ['S->AA.']\n",
            "6 : ['A->aA.']\n",
            "---------------------------------------------------------------\n",
            "+---+--------+--------+----+---+------+\n",
            "|   |        | Action |    |   | Goto |\n",
            "+===+========+========+====+===+======+\n",
            "|   | $      | a      | b  | A | S    |\n",
            "+---+--------+--------+----+---+------+\n",
            "| 0 |        | S3     | S4 | 2 | 1    |\n",
            "+---+--------+--------+----+---+------+\n",
            "| 1 | Accept |        |    |   |      |\n",
            "+---+--------+--------+----+---+------+\n",
            "| 2 |        | S3     | S4 | 5 |      |\n",
            "+---+--------+--------+----+---+------+\n",
            "| 3 |        | S3     | S4 | 6 |      |\n",
            "+---+--------+--------+----+---+------+\n",
            "| 4 | r3     | r3     | r3 |   |      |\n",
            "+---+--------+--------+----+---+------+\n",
            "| 5 | r1     | r1     | r1 |   |      |\n",
            "+---+--------+--------+----+---+------+\n",
            "| 6 | r2     | r2     | r2 |   |      |\n",
            "+---+--------+--------+----+---+------+\n",
            "\n",
            "\n",
            "Enter the string to be parsed: aaaaabaaaaab\n",
            "\n",
            "\n"
          ]
        }
      ]
    },
    {
      "cell_type": "code",
      "source": [
        "    try:\n",
        "        parsing_table = tt.to_string(data=data, header=header, style=tt.styles.ascii_thin_double, padding=(0, 1))\n",
        "        print(parsing_table)\n",
        "        if accepted:\n",
        "            string = string[:-1]\n",
        "            print(f\"\\n\\n\")\n",
        "            print(\"The string {0} is parsable!\".format(string))\n",
        "            print(f\"\\n\\n\")\n",
        "            #Add here\n",
        "        else:\n",
        "            print(\"The string {0} is not parsable!\".format(string))\n",
        "            print(f\"\\n\\n\")\n",
        "    except Exception:\n",
        "        print(\"Invalid string entered!\")"
      ],
      "metadata": {
        "colab": {
          "base_uri": "https://localhost:8080/"
        },
        "id": "mD-l1NrXFDoM",
        "outputId": "2637b375-f8e9-4cfd-c250-0265dda15fd8"
      },
      "execution_count": 30,
      "outputs": [
        {
          "output_type": "stream",
          "name": "stdout",
          "text": [
            "+-----------------------+------------+--------+-------------------------------------------------------------+\n",
            "| Process               | Look Ahead | Symbol | Stack                                                       |\n",
            "+=======================+============+========+=============================================================+\n",
            "| Action(0, a) = S3     | 0          | a      | [0, 'a', 3]                                                 |\n",
            "+-----------------------+------------+--------+-------------------------------------------------------------+\n",
            "| Action(3, a) = S3     | 1          | a      | [0, 'a', 3, 'a', 3]                                         |\n",
            "+-----------------------+------------+--------+-------------------------------------------------------------+\n",
            "| Action(3, a) = S3     | 2          | a      | [0, 'a', 3, 'a', 3, 'a', 3]                                 |\n",
            "+-----------------------+------------+--------+-------------------------------------------------------------+\n",
            "| Action(3, a) = S3     | 3          | a      | [0, 'a', 3, 'a', 3, 'a', 3, 'a', 3]                         |\n",
            "+-----------------------+------------+--------+-------------------------------------------------------------+\n",
            "| Action(3, a) = S3     | 4          | a      | [0, 'a', 3, 'a', 3, 'a', 3, 'a', 3, 'a', 3]                 |\n",
            "+-----------------------+------------+--------+-------------------------------------------------------------+\n",
            "| Action(3, b) = S4     | 5          | b      | [0, 'a', 3, 'a', 3, 'a', 3, 'a', 3, 'a', 3, 'b', 4]         |\n",
            "+-----------------------+------------+--------+-------------------------------------------------------------+\n",
            "| Action(4, a) = r3     | 6          | a      | [0, 'a', 3, 'a', 3, 'a', 3, 'a', 3, 'a', 3, 'A']            |\n",
            "+-----------------------+------------+--------+-------------------------------------------------------------+\n",
            "| goto(3, A) = 6        | 6          | a      | [0, 'a', 3, 'a', 3, 'a', 3, 'a', 3, 'a', 3, 'A', 6]         |\n",
            "+-----------------------+------------+--------+-------------------------------------------------------------+\n",
            "| Action(6, a) = r2     | 6          | a      | [0, 'a', 3, 'a', 3, 'a', 3, 'a', 3, 'A']                    |\n",
            "+-----------------------+------------+--------+-------------------------------------------------------------+\n",
            "| goto(3, A) = 6        | 6          | a      | [0, 'a', 3, 'a', 3, 'a', 3, 'a', 3, 'A', 6]                 |\n",
            "+-----------------------+------------+--------+-------------------------------------------------------------+\n",
            "| Action(6, a) = r2     | 6          | a      | [0, 'a', 3, 'a', 3, 'a', 3, 'A']                            |\n",
            "+-----------------------+------------+--------+-------------------------------------------------------------+\n",
            "| goto(3, A) = 6        | 6          | a      | [0, 'a', 3, 'a', 3, 'a', 3, 'A', 6]                         |\n",
            "+-----------------------+------------+--------+-------------------------------------------------------------+\n",
            "| Action(6, a) = r2     | 6          | a      | [0, 'a', 3, 'a', 3, 'A']                                    |\n",
            "+-----------------------+------------+--------+-------------------------------------------------------------+\n",
            "| goto(3, A) = 6        | 6          | a      | [0, 'a', 3, 'a', 3, 'A', 6]                                 |\n",
            "+-----------------------+------------+--------+-------------------------------------------------------------+\n",
            "| Action(6, a) = r2     | 6          | a      | [0, 'a', 3, 'A']                                            |\n",
            "+-----------------------+------------+--------+-------------------------------------------------------------+\n",
            "| goto(3, A) = 6        | 6          | a      | [0, 'a', 3, 'A', 6]                                         |\n",
            "+-----------------------+------------+--------+-------------------------------------------------------------+\n",
            "| Action(6, a) = r2     | 6          | a      | [0, 'A']                                                    |\n",
            "+-----------------------+------------+--------+-------------------------------------------------------------+\n",
            "| goto(0, A) = 2        | 6          | a      | [0, 'A', 2]                                                 |\n",
            "+-----------------------+------------+--------+-------------------------------------------------------------+\n",
            "| Action(2, a) = S3     | 6          | a      | [0, 'A', 2, 'a', 3]                                         |\n",
            "+-----------------------+------------+--------+-------------------------------------------------------------+\n",
            "| Action(3, a) = S3     | 7          | a      | [0, 'A', 2, 'a', 3, 'a', 3]                                 |\n",
            "+-----------------------+------------+--------+-------------------------------------------------------------+\n",
            "| Action(3, a) = S3     | 8          | a      | [0, 'A', 2, 'a', 3, 'a', 3, 'a', 3]                         |\n",
            "+-----------------------+------------+--------+-------------------------------------------------------------+\n",
            "| Action(3, a) = S3     | 9          | a      | [0, 'A', 2, 'a', 3, 'a', 3, 'a', 3, 'a', 3]                 |\n",
            "+-----------------------+------------+--------+-------------------------------------------------------------+\n",
            "| Action(3, a) = S3     | 10         | a      | [0, 'A', 2, 'a', 3, 'a', 3, 'a', 3, 'a', 3, 'a', 3]         |\n",
            "+-----------------------+------------+--------+-------------------------------------------------------------+\n",
            "| Action(3, b) = S4     | 11         | b      | [0, 'A', 2, 'a', 3, 'a', 3, 'a', 3, 'a', 3, 'a', 3, 'b', 4] |\n",
            "+-----------------------+------------+--------+-------------------------------------------------------------+\n",
            "| Action(4, $) = r3     | 12         | $      | [0, 'A', 2, 'a', 3, 'a', 3, 'a', 3, 'a', 3, 'a', 3, 'A']    |\n",
            "+-----------------------+------------+--------+-------------------------------------------------------------+\n",
            "| goto(3, A) = 6        | 12         | $      | [0, 'A', 2, 'a', 3, 'a', 3, 'a', 3, 'a', 3, 'a', 3, 'A', 6] |\n",
            "+-----------------------+------------+--------+-------------------------------------------------------------+\n",
            "| Action(6, $) = r2     | 12         | $      | [0, 'A', 2, 'a', 3, 'a', 3, 'a', 3, 'a', 3, 'A']            |\n",
            "+-----------------------+------------+--------+-------------------------------------------------------------+\n",
            "| goto(3, A) = 6        | 12         | $      | [0, 'A', 2, 'a', 3, 'a', 3, 'a', 3, 'a', 3, 'A', 6]         |\n",
            "+-----------------------+------------+--------+-------------------------------------------------------------+\n",
            "| Action(6, $) = r2     | 12         | $      | [0, 'A', 2, 'a', 3, 'a', 3, 'a', 3, 'A']                    |\n",
            "+-----------------------+------------+--------+-------------------------------------------------------------+\n",
            "| goto(3, A) = 6        | 12         | $      | [0, 'A', 2, 'a', 3, 'a', 3, 'a', 3, 'A', 6]                 |\n",
            "+-----------------------+------------+--------+-------------------------------------------------------------+\n",
            "| Action(6, $) = r2     | 12         | $      | [0, 'A', 2, 'a', 3, 'a', 3, 'A']                            |\n",
            "+-----------------------+------------+--------+-------------------------------------------------------------+\n",
            "| goto(3, A) = 6        | 12         | $      | [0, 'A', 2, 'a', 3, 'a', 3, 'A', 6]                         |\n",
            "+-----------------------+------------+--------+-------------------------------------------------------------+\n",
            "| Action(6, $) = r2     | 12         | $      | [0, 'A', 2, 'a', 3, 'A']                                    |\n",
            "+-----------------------+------------+--------+-------------------------------------------------------------+\n",
            "| goto(3, A) = 6        | 12         | $      | [0, 'A', 2, 'a', 3, 'A', 6]                                 |\n",
            "+-----------------------+------------+--------+-------------------------------------------------------------+\n",
            "| Action(6, $) = r2     | 12         | $      | [0, 'A', 2, 'A']                                            |\n",
            "+-----------------------+------------+--------+-------------------------------------------------------------+\n",
            "| goto(2, A) = 5        | 12         | $      | [0, 'A', 2, 'A', 5]                                         |\n",
            "+-----------------------+------------+--------+-------------------------------------------------------------+\n",
            "| Action(5, $) = r1     | 12         | $      | [0, 'S']                                                    |\n",
            "+-----------------------+------------+--------+-------------------------------------------------------------+\n",
            "| goto(0, S) = 1        | 12         | $      | [0, 'S', 1]                                                 |\n",
            "+-----------------------+------------+--------+-------------------------------------------------------------+\n",
            "| Action(1, $) = Accept | 12         | $      | [0, 'S', 1]                                                 |\n",
            "+-----------------------+------------+--------+-------------------------------------------------------------+\n",
            "\n",
            "\n",
            "\n",
            "The string aaaaabaaaaab is parsable!\n",
            "\n",
            "\n",
            "\n"
          ]
        }
      ]
    },
    {
      "cell_type": "code",
      "source": [
        "print(len(data))\n",
        "i=0\n",
        "for x in range(0,len(data)):\n",
        "  if(data[x][0][-2:-1]=='r'):\n",
        "    i=i+1\n",
        "    print(data[x][0][-2:])\n",
        "\n",
        "my_array = [0 for _ in range(i)]\n",
        "i=0\n",
        "for x in range(0,len(data)):\n",
        "  if(data[x][0][-2:-1]=='r'):\n",
        "    my_array[i]=int(data[x][0][-1:])\n",
        "    i=i+1\n",
        "myarray=my_array[::-1]\n",
        "myarray"
      ],
      "metadata": {
        "id": "u22dZSkvcf9V",
        "colab": {
          "base_uri": "https://localhost:8080/"
        },
        "outputId": "7c3cd980-3b63-47b1-cc89-9ef3d626065f"
      },
      "execution_count": 31,
      "outputs": [
        {
          "output_type": "stream",
          "name": "stdout",
          "text": [
            "39\n",
            "r3\n",
            "r2\n",
            "r2\n",
            "r2\n",
            "r2\n",
            "r2\n",
            "r3\n",
            "r2\n",
            "r2\n",
            "r2\n",
            "r2\n",
            "r2\n",
            "r1\n"
          ]
        },
        {
          "output_type": "execute_result",
          "data": {
            "text/plain": [
              "[1, 2, 2, 2, 2, 2, 3, 2, 2, 2, 2, 2, 3]"
            ]
          },
          "metadata": {},
          "execution_count": 31
        }
      ]
    },
    {
      "cell_type": "code",
      "source": [
        "arr=prod[1:]\n",
        "i"
      ],
      "metadata": {
        "id": "8r5ZjvTHnuqF",
        "outputId": "d95098db-bd4d-4c39-dc36-6fa95ce816d9",
        "colab": {
          "base_uri": "https://localhost:8080/"
        }
      },
      "execution_count": 32,
      "outputs": [
        {
          "output_type": "execute_result",
          "data": {
            "text/plain": [
              "13"
            ]
          },
          "metadata": {},
          "execution_count": 32
        }
      ]
    },
    {
      "cell_type": "code",
      "source": [
        "j=0\n",
        "modified_array = [s.replace('->', '') for s in arr]\n",
        "print(\"Modified array:\", modified_array)\n",
        "arr=modified_array\n",
        "for r in myarray:\n",
        "  rule=arr[r-1]\n",
        "  print(rule)\n",
        "  j=j+len(rule)\n",
        "k=0\n",
        "valarray = ['' for _ in range(j)]\n",
        "lenarray = [0 for _ in range(i)]\n",
        "print(lenarray)\n",
        "u=0\n",
        "for r in myarray:\n",
        "  rule=arr[r-1]\n",
        "  lenarray[u]=len(rule)\n",
        "  u+=1\n",
        "  for x in rule:\n",
        "    valarray[k]=x\n",
        "    k=k+1\n",
        "\n",
        "print(valarray)\n",
        "print(lenarray)"
      ],
      "metadata": {
        "id": "MeTEtYpnv0oM",
        "outputId": "a4c77edd-e0c9-433a-8732-3fdb4813bc63",
        "colab": {
          "base_uri": "https://localhost:8080/"
        }
      },
      "execution_count": 33,
      "outputs": [
        {
          "output_type": "stream",
          "name": "stdout",
          "text": [
            "Modified array: ['SAA', 'AaA', 'Ab']\n",
            "SAA\n",
            "AaA\n",
            "AaA\n",
            "AaA\n",
            "AaA\n",
            "AaA\n",
            "Ab\n",
            "AaA\n",
            "AaA\n",
            "AaA\n",
            "AaA\n",
            "AaA\n",
            "Ab\n",
            "[0, 0, 0, 0, 0, 0, 0, 0, 0, 0, 0, 0, 0]\n",
            "['S', 'A', 'A', 'A', 'a', 'A', 'A', 'a', 'A', 'A', 'a', 'A', 'A', 'a', 'A', 'A', 'a', 'A', 'A', 'b', 'A', 'a', 'A', 'A', 'a', 'A', 'A', 'a', 'A', 'A', 'a', 'A', 'A', 'a', 'A', 'A', 'b']\n",
            "[3, 3, 3, 3, 3, 3, 2, 3, 3, 3, 3, 3, 2]\n"
          ]
        }
      ]
    },
    {
      "cell_type": "code",
      "source": [
        "# Your array of characters\n",
        "input_array = valarray\n",
        "\n",
        "# Initialize arrays\n",
        "arr_non_term = []\n",
        "arr_term = []\n",
        "\n",
        "# Iterate over each character in the array\n",
        "for char in input_array:\n",
        "    # Check if the character is a capital letter\n",
        "    if char.isupper():\n",
        "        # Check if the character is not already in arr_non_term\n",
        "        if char not in arr_non_term:\n",
        "            arr_non_term.append(char)\n",
        "    # If the character is not a capital letter\n",
        "    else:\n",
        "        # Check if the character is not already in arr_term\n",
        "        if char not in arr_term:\n",
        "            arr_term.append(char)\n",
        "\n",
        "# Print the arrays\n",
        "print(\"Non-terminal array:\", arr_non_term)\n",
        "print(\"Terminal array:\", arr_term)\n",
        "arr_nontermcount = [0 for _ in range(len(arr_non_term))]\n",
        "arr_termcount = [0 for _ in range(len(arr_term))]\n",
        "print(valarray)\n",
        "print(lenarray)"
      ],
      "metadata": {
        "id": "q4F1ZPzR55PJ",
        "outputId": "b5e13948-1363-46ab-f3fc-76957bdc1127",
        "colab": {
          "base_uri": "https://localhost:8080/"
        }
      },
      "execution_count": 34,
      "outputs": [
        {
          "output_type": "stream",
          "name": "stdout",
          "text": [
            "Non-terminal array: ['S', 'A']\n",
            "Terminal array: ['a', 'b']\n",
            "['S', 'A', 'A', 'A', 'a', 'A', 'A', 'a', 'A', 'A', 'a', 'A', 'A', 'a', 'A', 'A', 'a', 'A', 'A', 'b', 'A', 'a', 'A', 'A', 'a', 'A', 'A', 'a', 'A', 'A', 'a', 'A', 'A', 'a', 'A', 'A', 'b']\n",
            "[3, 3, 3, 3, 3, 3, 2, 3, 3, 3, 3, 3, 2]\n"
          ]
        }
      ]
    },
    {
      "cell_type": "code",
      "source": [
        "count = 0\n",
        "array_lr = [2 for _ in range(len(valarray))]\n",
        "for x in lenarray:\n",
        "    for y in range(x):\n",
        "        if y == 0:\n",
        "            array_lr[count] = 0  # 0-left\n",
        "        else:\n",
        "            array_lr[count] = 1  # 1-right\n",
        "        count += 1\n",
        "print(array_lr)\n",
        "numberingarr = [-1 for _ in range(len(valarray))]\n",
        "numberingarr[0]=1\n",
        "for char in arr_non_term:\n",
        "    righttop = 0\n",
        "    rightstack = [-1 for _ in range(len(valarray))]\n",
        "    numbering = 1\n",
        "    for c in range(len(valarray)):\n",
        "      x = valarray[c]\n",
        "      if x in arr_non_term:\n",
        "          index = c\n",
        "          if index == 0 and char==valarray[0]:\n",
        "              numbering+=1\n",
        "              continue\n",
        "\n",
        "          if x == char and array_lr[index] == 1:\n",
        "              rightstack[righttop] = index\n",
        "              righttop += 1\n",
        "\n",
        "          if x == char and array_lr[index] == 0:\n",
        "              numberingarr[index] = numbering\n",
        "              numberingarr[rightstack[righttop-1]] = numbering\n",
        "              numbering+=1\n",
        "              righttop-=1\n",
        "\n",
        "\n",
        "for char in arr_term:\n",
        "  numbering=1\n",
        "  for c in range(len(valarray)):\n",
        "    x=valarray[c]\n",
        "    if x in arr_term:\n",
        "      index=c\n",
        "      if x==char:\n",
        "        numberingarr[index]=numbering\n",
        "        numbering+=1\n",
        "\n",
        "\n",
        "print(numberingarr)\n"
      ],
      "metadata": {
        "colab": {
          "base_uri": "https://localhost:8080/"
        },
        "id": "iaGpXME_24Gf",
        "outputId": "bf5aac84-6488-42f7-f5f5-cf6586e7623a"
      },
      "execution_count": 35,
      "outputs": [
        {
          "output_type": "stream",
          "name": "stdout",
          "text": [
            "[0, 1, 1, 0, 1, 1, 0, 1, 1, 0, 1, 1, 0, 1, 1, 0, 1, 1, 0, 1, 0, 1, 1, 0, 1, 1, 0, 1, 1, 0, 1, 1, 0, 1, 1, 0, 1]\n",
            "[1, 7, 1, 1, 1, 2, 2, 2, 3, 3, 3, 4, 4, 4, 5, 5, 5, 6, 6, 1, 7, 6, 8, 8, 7, 9, 9, 8, 10, 10, 9, 11, 11, 10, 12, 12, 2]\n"
          ]
        }
      ]
    },
    {
      "cell_type": "code",
      "source": [
        "track = 0\n",
        "treedict = {}\n",
        "for t in range(len(lenarray)):\n",
        "    values = []\n",
        "    key = ''\n",
        "    for b in range(lenarray[t]):\n",
        "        if b == 0:\n",
        "            val = valarray[track]\n",
        "            index = arr_non_term.index(val)\n",
        "            key = valarray[track]+str(numberingarr[track])\n",
        "        else:\n",
        "            val = valarray[track]\n",
        "            if val in arr_non_term:\n",
        "                index = arr_non_term.index(val)\n",
        "                values.append(valarray[track] + str(numberingarr[track]))\n",
        "            if val in arr_term:\n",
        "                index = arr_term.index(val)\n",
        "                values.append(valarray[track] + str(numberingarr[track]))\n",
        "        track += 1\n",
        "    print(key)\n",
        "    print(values)\n",
        "    treedict[key] = values\n",
        "\n",
        "print(treedict)\n"
      ],
      "metadata": {
        "id": "GLq-9wCv0sEo",
        "outputId": "635fdfe1-e62c-49ec-c69e-c959d2474785",
        "colab": {
          "base_uri": "https://localhost:8080/"
        }
      },
      "execution_count": 36,
      "outputs": [
        {
          "output_type": "stream",
          "name": "stdout",
          "text": [
            "S1\n",
            "['A7', 'A1']\n",
            "A1\n",
            "['a1', 'A2']\n",
            "A2\n",
            "['a2', 'A3']\n",
            "A3\n",
            "['a3', 'A4']\n",
            "A4\n",
            "['a4', 'A5']\n",
            "A5\n",
            "['a5', 'A6']\n",
            "A6\n",
            "['b1']\n",
            "A7\n",
            "['a6', 'A8']\n",
            "A8\n",
            "['a7', 'A9']\n",
            "A9\n",
            "['a8', 'A10']\n",
            "A10\n",
            "['a9', 'A11']\n",
            "A11\n",
            "['a10', 'A12']\n",
            "A12\n",
            "['b2']\n",
            "{'S1': ['A7', 'A1'], 'A1': ['a1', 'A2'], 'A2': ['a2', 'A3'], 'A3': ['a3', 'A4'], 'A4': ['a4', 'A5'], 'A5': ['a5', 'A6'], 'A6': ['b1'], 'A7': ['a6', 'A8'], 'A8': ['a7', 'A9'], 'A9': ['a8', 'A10'], 'A10': ['a9', 'A11'], 'A11': ['a10', 'A12'], 'A12': ['b2']}\n"
          ]
        }
      ]
    },
    {
      "cell_type": "code",
      "source": [
        "treedict"
      ],
      "metadata": {
        "id": "4Z8AnsoStj8h",
        "outputId": "fef6a5f1-f793-4e55-8d41-bf4014d45c19",
        "colab": {
          "base_uri": "https://localhost:8080/"
        }
      },
      "execution_count": 37,
      "outputs": [
        {
          "output_type": "execute_result",
          "data": {
            "text/plain": [
              "{'S1': ['A7', 'A1'],\n",
              " 'A1': ['a1', 'A2'],\n",
              " 'A2': ['a2', 'A3'],\n",
              " 'A3': ['a3', 'A4'],\n",
              " 'A4': ['a4', 'A5'],\n",
              " 'A5': ['a5', 'A6'],\n",
              " 'A6': ['b1'],\n",
              " 'A7': ['a6', 'A8'],\n",
              " 'A8': ['a7', 'A9'],\n",
              " 'A9': ['a8', 'A10'],\n",
              " 'A10': ['a9', 'A11'],\n",
              " 'A11': ['a10', 'A12'],\n",
              " 'A12': ['b2']}"
            ]
          },
          "metadata": {},
          "execution_count": 37
        }
      ]
    },
    {
      "cell_type": "code",
      "source": [
        "result1 = pyfiglet.figlet_format(\"Parse Tree\",font='graceful')\n",
        "print(result1)\n",
        "print()\n",
        "import matplotlib.pyplot as plt\n",
        "import networkx as nx\n",
        "from networkx.drawing.nx_pydot import graphviz_layout\n",
        "\n",
        "# Define the tree structure\n",
        "tree = treedict\n",
        "# Create a directed graph\n",
        "G = nx.DiGraph()\n",
        "\n",
        "# Add nodes and edges to the graph\n",
        "for parent, children in tree.items():\n",
        "    G.add_node(parent)\n",
        "    for child in children:\n",
        "        G.add_edge(parent, child)\n",
        "\n",
        "# Visualize the tree\n",
        "pos = graphviz_layout(G, prog=\"dot\")\n",
        "fig, ax = plt.subplots(figsize=(10, 10))\n",
        "\n",
        "# Draw nodes\n",
        "nx.draw_networkx_nodes(G, pos, node_size=2000, node_color=\"skyblue\", ax=ax)\n",
        "\n",
        "# Draw edges\n",
        "nx.draw_networkx_edges(G, pos, ax=ax)\n",
        "\n",
        "# Draw labels with subscripts\n",
        "labels = {}\n",
        "for node in G.nodes():\n",
        "    label = node[0] + f\"$_{{{node[1:]}}}$\"  # Add subscript to the number part of the node label\n",
        "    labels[node] = label\n",
        "\n",
        "nx.draw_networkx_labels(G, pos, labels, font_size=12, ax=ax)\n",
        "\n",
        "# Adjust layout and display\n",
        "plt.axis(\"off\")\n",
        "plt.show()"
      ],
      "metadata": {
        "id": "0pAKVKHZ2I77",
        "outputId": "dda47a38-8827-4774-e18e-b58b7f01bb68",
        "colab": {
          "base_uri": "https://localhost:8080/",
          "height": 911
        }
      },
      "execution_count": 38,
      "outputs": [
        {
          "output_type": "stream",
          "name": "stdout",
          "text": [
            " ____   __   ____  ____  ____    ____  ____  ____  ____ \n",
            "(  _ \\ / _\\ (  _ \\/ ___)(  __)  (_  _)(  _ \\(  __)(  __)\n",
            " ) __//    \\ )   /\\___ \\ ) _)     )(   )   / ) _)  ) _) \n",
            "(__)  \\_/\\_/(__\\_)(____/(____)   (__) (__\\_)(____)(____)\n",
            "\n",
            "\n"
          ]
        },
        {
          "output_type": "display_data",
          "data": {
            "text/plain": [
              "<Figure size 1000x1000 with 1 Axes>"
            ],
            "image/png": "[encoded data removed]"
          },
          "metadata": {}
        }
      ]
    }
  ]
}